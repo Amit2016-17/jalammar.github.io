{
  "nbformat": 4,
  "nbformat_minor": 0,
  "metadata": {
    "colab": {
      "name": "Attention Flow - Graph Tools.ipynb",
      "provenance": [],
      "collapsed_sections": [],
      "authorship_tag": "ABX9TyOhULmTZ2KV3l/GbPgKcHpo",
      "include_colab_link": true
    },
    "kernelspec": {
      "name": "python3",
      "display_name": "Python 3"
    },
    "widgets": {
      "application/vnd.jupyter.widget-state+json": {
        "d300761a12da4a64b8091414a21429fb": {
          "model_module": "@jupyter-widgets/controls",
          "model_name": "HBoxModel",
          "state": {
            "_view_name": "HBoxView",
            "_dom_classes": [],
            "_model_name": "HBoxModel",
            "_view_module": "@jupyter-widgets/controls",
            "_model_module_version": "1.5.0",
            "_view_count": null,
            "_view_module_version": "1.5.0",
            "box_style": "",
            "layout": "IPY_MODEL_744475d3ec3941788ef3c944be629421",
            "_model_module": "@jupyter-widgets/controls",
            "children": [
              "IPY_MODEL_b17fdf784107494ca4d3fda508bc3c1e",
              "IPY_MODEL_37072c63fb3545e39766824d4d3ecaab"
            ]
          }
        },
        "744475d3ec3941788ef3c944be629421": {
          "model_module": "@jupyter-widgets/base",
          "model_name": "LayoutModel",
          "state": {
            "_view_name": "LayoutView",
            "grid_template_rows": null,
            "right": null,
            "justify_content": null,
            "_view_module": "@jupyter-widgets/base",
            "overflow": null,
            "_model_module_version": "1.2.0",
            "_view_count": null,
            "flex_flow": null,
            "width": null,
            "min_width": null,
            "border": null,
            "align_items": null,
            "bottom": null,
            "_model_module": "@jupyter-widgets/base",
            "top": null,
            "grid_column": null,
            "overflow_y": null,
            "overflow_x": null,
            "grid_auto_flow": null,
            "grid_area": null,
            "grid_template_columns": null,
            "flex": null,
            "_model_name": "LayoutModel",
            "justify_items": null,
            "grid_row": null,
            "max_height": null,
            "align_content": null,
            "visibility": null,
            "align_self": null,
            "height": null,
            "min_height": null,
            "padding": null,
            "grid_auto_rows": null,
            "grid_gap": null,
            "max_width": null,
            "order": null,
            "_view_module_version": "1.2.0",
            "grid_template_areas": null,
            "object_position": null,
            "object_fit": null,
            "grid_auto_columns": null,
            "margin": null,
            "display": null,
            "left": null
          }
        },
        "b17fdf784107494ca4d3fda508bc3c1e": {
          "model_module": "@jupyter-widgets/controls",
          "model_name": "FloatProgressModel",
          "state": {
            "_view_name": "ProgressView",
            "style": "IPY_MODEL_d6f3c56f32a64607989b58270befb164",
            "_dom_classes": [],
            "description": "Downloading: 100%",
            "_model_name": "FloatProgressModel",
            "bar_style": "success",
            "max": 1344997306,
            "_view_module": "@jupyter-widgets/controls",
            "_model_module_version": "1.5.0",
            "value": 1344997306,
            "_view_count": null,
            "_view_module_version": "1.5.0",
            "orientation": "horizontal",
            "min": 0,
            "description_tooltip": null,
            "_model_module": "@jupyter-widgets/controls",
            "layout": "IPY_MODEL_433a873664cf4e98a96f2b592bd405a9"
          }
        },
        "37072c63fb3545e39766824d4d3ecaab": {
          "model_module": "@jupyter-widgets/controls",
          "model_name": "HTMLModel",
          "state": {
            "_view_name": "HTMLView",
            "style": "IPY_MODEL_bf936412e5c24fb5bf9217e692d84b81",
            "_dom_classes": [],
            "description": "",
            "_model_name": "HTMLModel",
            "placeholder": "​",
            "_view_module": "@jupyter-widgets/controls",
            "_model_module_version": "1.5.0",
            "value": " 1.34G/1.34G [00:19&lt;00:00, 69.7MB/s]",
            "_view_count": null,
            "_view_module_version": "1.5.0",
            "description_tooltip": null,
            "_model_module": "@jupyter-widgets/controls",
            "layout": "IPY_MODEL_5902568112204ae9aa558de82fecb17b"
          }
        },
        "d6f3c56f32a64607989b58270befb164": {
          "model_module": "@jupyter-widgets/controls",
          "model_name": "ProgressStyleModel",
          "state": {
            "_view_name": "StyleView",
            "_model_name": "ProgressStyleModel",
            "description_width": "initial",
            "_view_module": "@jupyter-widgets/base",
            "_model_module_version": "1.5.0",
            "_view_count": null,
            "_view_module_version": "1.2.0",
            "bar_color": null,
            "_model_module": "@jupyter-widgets/controls"
          }
        },
        "433a873664cf4e98a96f2b592bd405a9": {
          "model_module": "@jupyter-widgets/base",
          "model_name": "LayoutModel",
          "state": {
            "_view_name": "LayoutView",
            "grid_template_rows": null,
            "right": null,
            "justify_content": null,
            "_view_module": "@jupyter-widgets/base",
            "overflow": null,
            "_model_module_version": "1.2.0",
            "_view_count": null,
            "flex_flow": null,
            "width": null,
            "min_width": null,
            "border": null,
            "align_items": null,
            "bottom": null,
            "_model_module": "@jupyter-widgets/base",
            "top": null,
            "grid_column": null,
            "overflow_y": null,
            "overflow_x": null,
            "grid_auto_flow": null,
            "grid_area": null,
            "grid_template_columns": null,
            "flex": null,
            "_model_name": "LayoutModel",
            "justify_items": null,
            "grid_row": null,
            "max_height": null,
            "align_content": null,
            "visibility": null,
            "align_self": null,
            "height": null,
            "min_height": null,
            "padding": null,
            "grid_auto_rows": null,
            "grid_gap": null,
            "max_width": null,
            "order": null,
            "_view_module_version": "1.2.0",
            "grid_template_areas": null,
            "object_position": null,
            "object_fit": null,
            "grid_auto_columns": null,
            "margin": null,
            "display": null,
            "left": null
          }
        },
        "bf936412e5c24fb5bf9217e692d84b81": {
          "model_module": "@jupyter-widgets/controls",
          "model_name": "DescriptionStyleModel",
          "state": {
            "_view_name": "StyleView",
            "_model_name": "DescriptionStyleModel",
            "description_width": "",
            "_view_module": "@jupyter-widgets/base",
            "_model_module_version": "1.5.0",
            "_view_count": null,
            "_view_module_version": "1.2.0",
            "_model_module": "@jupyter-widgets/controls"
          }
        },
        "5902568112204ae9aa558de82fecb17b": {
          "model_module": "@jupyter-widgets/base",
          "model_name": "LayoutModel",
          "state": {
            "_view_name": "LayoutView",
            "grid_template_rows": null,
            "right": null,
            "justify_content": null,
            "_view_module": "@jupyter-widgets/base",
            "overflow": null,
            "_model_module_version": "1.2.0",
            "_view_count": null,
            "flex_flow": null,
            "width": null,
            "min_width": null,
            "border": null,
            "align_items": null,
            "bottom": null,
            "_model_module": "@jupyter-widgets/base",
            "top": null,
            "grid_column": null,
            "overflow_y": null,
            "overflow_x": null,
            "grid_auto_flow": null,
            "grid_area": null,
            "grid_template_columns": null,
            "flex": null,
            "_model_name": "LayoutModel",
            "justify_items": null,
            "grid_row": null,
            "max_height": null,
            "align_content": null,
            "visibility": null,
            "align_self": null,
            "height": null,
            "min_height": null,
            "padding": null,
            "grid_auto_rows": null,
            "grid_gap": null,
            "max_width": null,
            "order": null,
            "_view_module_version": "1.2.0",
            "grid_template_areas": null,
            "object_position": null,
            "object_fit": null,
            "grid_auto_columns": null,
            "margin": null,
            "display": null,
            "left": null
          }
        }
      }
    }
  },
  "cells": [
    {
      "cell_type": "markdown",
      "metadata": {
        "id": "view-in-github",
        "colab_type": "text"
      },
      "source": [
        "<a href=\"https://colab.research.google.com/github/jalammar/jalammar.github.io/blob/master/notebooks/Attention_Flow_Graph_Tools.ipynb\" target=\"_parent\"><img src=\"https://colab.research.google.com/assets/colab-badge.svg\" alt=\"Open In Colab\"/></a>"
      ]
    },
    {
      "cell_type": "code",
      "metadata": {
        "id": "gVk2-ESTxV8y"
      },
      "source": [
        "!pip install transformers"
      ],
      "execution_count": null,
      "outputs": []
    },
    {
      "cell_type": "code",
      "metadata": {
        "id": "e_t6a85Vxja1"
      },
      "source": [
        "# Graph Tool Installation\n",
        "# https://colab.research.google.com/github/count0/colab-gt/blob/master/colab-gt.ipynb#scrollTo=GQ18Kd5F3uKe\n",
        "!echo \"deb http://downloads.skewed.de/apt bionic main\" >> /etc/apt/sources.list\n",
        "!apt-key adv --keyserver keys.openpgp.org --recv-key 612DEFB798507F25\n",
        "!apt-get update\n",
        "!apt-get install python3-graph-tool python3-cairo python3-matplotlib"
      ],
      "execution_count": null,
      "outputs": []
    },
    {
      "cell_type": "code",
      "metadata": {
        "id": "OjnMsOFbxeq6",
        "colab": {
          "base_uri": "https://localhost:8080/",
          "height": 139,
          "referenced_widgets": [
            "d300761a12da4a64b8091414a21429fb",
            "744475d3ec3941788ef3c944be629421",
            "b17fdf784107494ca4d3fda508bc3c1e",
            "37072c63fb3545e39766824d4d3ecaab",
            "d6f3c56f32a64607989b58270befb164",
            "433a873664cf4e98a96f2b592bd405a9",
            "bf936412e5c24fb5bf9217e692d84b81",
            "5902568112204ae9aa558de82fecb17b"
          ]
        },
        "outputId": "83a8f7cd-c2a2-4ab6-9b30-d1d2a4443695"
      },
      "source": [
        "\n",
        "model_name = 'bert-large-uncased'\n",
        "from transformers import BertTokenizer, BertForMaskedLM, DistilBertTokenizer, DistilBertModel\n",
        "tokenizer = BertTokenizer.from_pretrained(model_name)\n",
        "model = BertForMaskedLM.from_pretrained(model_name,\n",
        "                                  output_hidden_states=True,\n",
        "                                  output_attentions=True)"
      ],
      "execution_count": null,
      "outputs": [
        {
          "output_type": "display_data",
          "data": {
            "application/vnd.jupyter.widget-view+json": {
              "model_id": "d300761a12da4a64b8091414a21429fb",
              "version_minor": 0,
              "version_major": 2
            },
            "text/plain": [
              "HBox(children=(FloatProgress(value=0.0, description='Downloading', max=1344997306.0, style=ProgressStyle(descr…"
            ]
          },
          "metadata": {
            "tags": []
          }
        },
        {
          "output_type": "stream",
          "text": [
            "\n"
          ],
          "name": "stdout"
        },
        {
          "output_type": "stream",
          "text": [
            "Some weights of the model checkpoint at bert-large-uncased were not used when initializing BertForMaskedLM: ['cls.seq_relationship.weight', 'cls.seq_relationship.bias']\n",
            "- This IS expected if you are initializing BertForMaskedLM from the checkpoint of a model trained on another task or with another architecture (e.g. initializing a BertForSequenceClassification model from a BertForPretraining model).\n",
            "- This IS NOT expected if you are initializing BertForMaskedLM from the checkpoint of a model that you expect to be exactly identical (initializing a BertForSequenceClassification model from a BertForSequenceClassification model).\n"
          ],
          "name": "stderr"
        }
      ]
    },
    {
      "cell_type": "code",
      "metadata": {
        "id": "LmN4BH1xxfwl"
      },
      "source": [
        "import graph_tool as gt\n",
        "import numpy as np\n",
        "\n",
        "\n",
        "def get_adjmat(mat, input_tokens):\n",
        "    n_layers, length, _ = mat.shape\n",
        "    adj_mat = np.zeros(((n_layers+1)*length, (n_layers+1)*length))\n",
        "    labels_to_index = {}\n",
        "    for k in np.arange(length):\n",
        "        labels_to_index[str(k)+\"_\"+input_tokens[k]] = k\n",
        "\n",
        "    for i in np.arange(1,n_layers+1):\n",
        "        for k_f in np.arange(length):\n",
        "            index_from = (i)*length+k_f\n",
        "            label = \"L\"+str(i)+\"_\"+str(k_f)\n",
        "            labels_to_index[label] = index_from\n",
        "            for k_t in np.arange(length):\n",
        "                index_to = (i-1)*length+k_t\n",
        "                adj_mat[index_from][index_to] = mat[i-1][k_f][k_t]\n",
        "                \n",
        "    return adj_mat, labels_to_index \n",
        "\n",
        "\n",
        "def convert_adjmat_tomats(adjmat, n_layers, l):\n",
        "   mats = np.zeros((n_layers,l,l))\n",
        "   \n",
        "   for i in np.arange(n_layers):\n",
        "       mats[i] = adjmat[(i+1)*l:(i+2)*l,i*l:(i+1)*l]\n",
        "       \n",
        "   return mats"
      ],
      "execution_count": null,
      "outputs": []
    },
    {
      "cell_type": "code",
      "metadata": {
        "id": "k7t8wKQgx0jd"
      },
      "source": [
        "sentence = \"The author talked to Sara about [MASK] book\"\n",
        "encoded_input = tokenizer(sentence, return_tensors='pt')\n",
        "# # of tokens: 10 tokens\n",
        "\n",
        "all_hidden_states, all_attentions = model(**encoded_input)[-2:]\n",
        "\n",
        "tokens = ['[cls]']+tokenizer.tokenize(sentence)+['[sep]']\n",
        "\n",
        "# all_attention is a list of tensors, one per layer.\n",
        "# e.g. Each is (1, 12, 10, 10) which is (batch_size, attention heads, tokens in, tokens out)\n",
        "_attentions = [att.detach().numpy() for att in all_attentions]\n",
        "\n",
        "# attentions_mat is cleaner to deal with\n",
        "# (6, 12, 10, 10) which is (layer, attention head, tokens in, tokens out)\n",
        "attentions_mat = np.asarray(_attentions)[:,0]\n"
      ],
      "execution_count": null,
      "outputs": []
    },
    {
      "cell_type": "code",
      "metadata": {
        "id": "ltmjLohAx3yR"
      },
      "source": [
        "# Sum the attention values of all the heads, then normalize by dividing by the \n",
        "# number of heads\n",
        "res_att_mat = attentions_mat.sum(axis=1)/attentions_mat.shape[1]\n",
        "\n",
        "# Add 1 to each token's attention value to itself.\n",
        "# This accounts for the residual connection adding the token'the position's\n",
        "# input back after self-attention\n",
        "# [None,...] creates\n",
        "res_att_mat = res_att_mat + np.eye(res_att_mat.shape[1])[None,...]\n",
        "\n",
        "\n",
        "# Normalize so that all the attention going into a node adds up to one?\n",
        "res_att_mat = res_att_mat / res_att_mat.sum(axis=-1)[...,None]"
      ],
      "execution_count": null,
      "outputs": []
    },
    {
      "cell_type": "code",
      "metadata": {
        "id": "0nCJsM4Aydgo"
      },
      "source": [
        "# We want to end up creating a weighted graph. Turning the attention matrix\n",
        "# into an adjacency matrix is a step in that direction\n",
        "res_adj_mat, res_labels_to_index = get_adjmat(mat=res_att_mat, input_tokens=tokens)"
      ],
      "execution_count": null,
      "outputs": []
    },
    {
      "cell_type": "code",
      "metadata": {
        "id": "XTC9aVXCyLUH"
      },
      "source": [
        "# Create the attention graph\n",
        "g = gt.Graph()\n",
        "# Set which nodes are connected to which others nodes using tha adjacency matrix\n",
        "# (No weights/capacities set yet)\n",
        "indices = res_adj_mat.nonzero()\n",
        "g.add_edge_list(np.transpose(indices))\n",
        "\n",
        "# Set the capacities (attention weights)\n",
        "edge_capacities = g.new_edge_property(\"double\")\n",
        "edge_capacities.a = res_adj_mat [indices]\n",
        "g.ep['capacity'] = edge_capacities"
      ],
      "execution_count": null,
      "outputs": []
    },
    {
      "cell_type": "code",
      "metadata": {
        "id": "xz5V3tkByvHP"
      },
      "source": [
        "\n",
        "output_nodes = []\n",
        "input_nodes = []\n",
        "for key in res_labels_to_index:\n",
        "    if 'L24' in key:\n",
        "        output_nodes.append(key)\n",
        "    if res_labels_to_index[key] < attentions_mat.shape[-1]:\n",
        "        input_nodes.append(key)\n"
      ],
      "execution_count": null,
      "outputs": []
    },
    {
      "cell_type": "code",
      "metadata": {
        "id": "ChBC0MyuyTQd"
      },
      "source": [
        "\n",
        "from graph_tool.flow import edmonds_karp_max_flow\n",
        "\n",
        "labels_to_index = res_labels_to_index\n",
        "length=attentions_mat.shape[-1]\n",
        "number_of_nodes = len(labels_to_index)\n",
        "flow_values_gt_2=np.zeros((number_of_nodes, len(input_nodes)))\n",
        "cap = g.edge_properties[\"capacity\"]\n",
        "\n",
        "# For each position in each layer\n",
        "for key in labels_to_index:\n",
        "    # skip input nodes (attention weights)\n",
        "    if key not in input_nodes:\n",
        "        u = labels_to_index[key] # The node we'll trace (source)\n",
        "        src = g.vertex(u)\n",
        "        # For each input token\n",
        "        for inp_node_key in input_nodes:\n",
        "            v = labels_to_index[inp_node_key] # The input token (target)\n",
        "            tgt = g.vertex(v)\n",
        "\n",
        "            # Calculate the maximum flow\n",
        "            # https://graph-tool.skewed.de/static/doc/flow.html#graph_tool.flow.edmonds_karp_max_flow\n",
        "            res = edmonds_karp_max_flow(g, src, tgt, cap)\n",
        "            res.a = cap.a - res.a  # the actual flow\n",
        "            max_flow = sum(res[e] for e in tgt.in_edges())\n",
        "            flow_values_gt_2[u][labels_to_index[inp_node_key]] = max_flow\n",
        "\n",
        "        # Normalize the attention going into the node so it adds up to one    \n",
        "        flow_values_gt_2[u] /= flow_values_gt_2[u].sum()"
      ],
      "execution_count": null,
      "outputs": []
    },
    {
      "cell_type": "code",
      "metadata": {
        "id": "ZUPcL_6uz85H",
        "colab": {
          "base_uri": "https://localhost:8080/",
          "height": 35
        },
        "outputId": "01d69e37-2ace-447c-eb5d-cc6861bd64c3"
      },
      "source": [
        "# Attentions are now here:\n",
        "attention_flow = flow_values_gt_2.reshape((-1, flow_values_gt_2.shape[1], flow_values_gt_2.shape[1]))\n",
        "print(attention_flow.shape) # Dimensions: Layers, tokens in, tokens out"
      ],
      "execution_count": null,
      "outputs": [
        {
          "output_type": "stream",
          "text": [
            "(25, 10, 10)\n"
          ],
          "name": "stdout"
        }
      ]
    },
    {
      "cell_type": "code",
      "metadata": {
        "id": "RFFXwI_1s98E"
      },
      "source": [
        "import itertools\n",
        "import matplotlib.pyplot as plt\n",
        "def plot_attention_heatmap(att, s_position, t_positions, sentence):\n",
        "\n",
        "  cls_att = np.flip(att[:,s_position, t_positions], axis=0)\n",
        "  xticklb = input_tokens= list(itertools.compress(['<cls>']+sentence.split(), [i in t_positions for i in np.arange(len(sentence)+1)]))\n",
        "  yticklb = [str(i) if i%2 ==0 else '' for i in np.arange(att.shape[0],0, -1)]\n",
        "  ax = sns.heatmap(cls_att, xticklabels=xticklb, yticklabels=yticklb, cmap=\"YlOrRd\")\n",
        "  return ax"
      ],
      "execution_count": null,
      "outputs": []
    },
    {
      "cell_type": "code",
      "metadata": {
        "id": "FolxCv-MzeWd",
        "colab": {
          "base_uri": "https://localhost:8080/",
          "height": 391
        },
        "outputId": "ccd0345d-488d-4c9e-86fe-c66e9c178603"
      },
      "source": [
        "src = 7\n",
        "targets = (2,5) \n",
        "plt.figure(1,figsize=(3,6))\n",
        "plot_attention_heatmap(attention_flow, src, targets, sentence)\n",
        "# (attentions_mat.sum(axis=1)/attentions_mat.shape[1], src, t_positions=targets, sentence=sentence)"
      ],
      "execution_count": null,
      "outputs": [
        {
          "output_type": "execute_result",
          "data": {
            "text/plain": [
              "<matplotlib.axes._subplots.AxesSubplot at 0x7f304be2e748>"
            ]
          },
          "metadata": {
            "tags": []
          },
          "execution_count": 51
        },
        {
          "output_type": "display_data",
          "data": {
            "image/png": "[encoded data removed]",
            "text/plain": [
              "<Figure size 216x432 with 2 Axes>"
            ]
          },
          "metadata": {
            "tags": [],
            "needs_background": "light"
          }
        }
      ]
    },
    {
      "cell_type": "code",
      "metadata": {
        "id": "0t6NYtKOzevE"
      },
      "source": [
        ""
      ],
      "execution_count": null,
      "outputs": []
    },
    {
      "cell_type": "code",
      "metadata": {
        "id": "uTNGmL9A0HNm",
        "colab": {
          "base_uri": "https://localhost:8080/",
          "height": 35
        },
        "outputId": "7dab3481-e533-4eb6-d380-c3274dc88cf3"
      },
      "source": [
        "res_att_mat = flow_values_gt_2\n",
        "\n",
        "params = {'tokens':tokens, \n",
        "          'attentions': res_att_mat.tolist()\n",
        "          }\n",
        "\n",
        "import json\n",
        "import datetime\n",
        "from google.colab import files\n",
        "time_str = str(int(datetime.datetime.now().strftime(\"%s\")) * 1000 )\n",
        "filename = 'distilbert_attentions_{}.json'.format(time_str)\n",
        "with open(filename, 'w', encoding='utf-8') as f:\n",
        "    json.dump(params, f)\n",
        "\n",
        "files.download(filename)"
      ],
      "execution_count": null,
      "outputs": [
        {
          "output_type": "display_data",
          "data": {
            "application/javascript": [
              "\n",
              "    async function download(id, filename, size) {\n",
              "      if (!google.colab.kernel.accessAllowed) {\n",
              "        return;\n",
              "      }\n",
              "      const div = document.createElement('div');\n",
              "      const label = document.createElement('label');\n",
              "      label.textContent = `Downloading \"${filename}\": `;\n",
              "      div.appendChild(label);\n",
              "      const progress = document.createElement('progress');\n",
              "      progress.max = size;\n",
              "      div.appendChild(progress);\n",
              "      document.body.appendChild(div);\n",
              "\n",
              "      const buffers = [];\n",
              "      let downloaded = 0;\n",
              "\n",
              "      const channel = await google.colab.kernel.comms.open(id);\n",
              "      // Send a message to notify the kernel that we're ready.\n",
              "      channel.send({})\n",
              "\n",
              "      for await (const message of channel.messages) {\n",
              "        // Send a message to notify the kernel that we're ready.\n",
              "        channel.send({})\n",
              "        if (message.buffers) {\n",
              "          for (const buffer of message.buffers) {\n",
              "            buffers.push(buffer);\n",
              "            downloaded += buffer.byteLength;\n",
              "            progress.value = downloaded;\n",
              "          }\n",
              "        }\n",
              "      }\n",
              "      const blob = new Blob(buffers, {type: 'application/binary'});\n",
              "      const a = document.createElement('a');\n",
              "      a.href = window.URL.createObjectURL(blob);\n",
              "      a.download = filename;\n",
              "      div.appendChild(a);\n",
              "      a.click();\n",
              "      div.remove();\n",
              "    }\n",
              "  "
            ],
            "text/plain": [
              "<IPython.core.display.Javascript object>"
            ]
          },
          "metadata": {
            "tags": []
          }
        },
        {
          "output_type": "display_data",
          "data": {
            "application/javascript": [
              "download(\"download_cb6510a3-faac-42ce-be53-8a17f2a4a7e7\", \"distilbert_attentions_1598763257000.json\", 13294)"
            ],
            "text/plain": [
              "<IPython.core.display.Javascript object>"
            ]
          },
          "metadata": {
            "tags": []
          }
        }
      ]
    },
    {
      "cell_type": "code",
      "metadata": {
        "id": "-z20c_smyokq",
        "colab": {
          "base_uri": "https://localhost:8080/",
          "height": 139
        },
        "outputId": "9c6e2589-02dc-4031-9511-0d3475f89b9c"
      },
      "source": [
        "flow_values_gt_2[-1]"
      ],
      "execution_count": null,
      "outputs": [
        {
          "output_type": "execute_result",
          "data": {
            "text/plain": [
              "array([0.03793658, 0.03032572, 0.03233632, 0.0303776 , 0.03035771,\n",
              "       0.03036755, 0.03120148, 0.03044947, 0.03059527, 0.03101437,\n",
              "       0.03103461, 0.03037675, 0.03113135, 0.03031724, 0.03068525,\n",
              "       0.03069881, 0.03176215, 0.03055294, 0.03050438, 0.03054285,\n",
              "       0.03167248, 0.03051716, 0.03103869, 0.03031635, 0.03069626,\n",
              "       0.03092836, 0.03058538, 0.03105151, 0.03049016, 0.03289304,\n",
              "       0.02930562, 0.03793658])"
            ]
          },
          "metadata": {
            "tags": []
          },
          "execution_count": 17
        }
      ]
    },
    {
      "cell_type": "code",
      "metadata": {
        "id": "-h2f0PdzzxEg",
        "colab": {
          "base_uri": "https://localhost:8080/",
          "height": 285
        },
        "outputId": "ac95e56a-a423-4ffc-cad3-99235f023152"
      },
      "source": [
        "import seaborn as sns\n",
        "sns.heatmap(flow_values_gt_2)"
      ],
      "execution_count": null,
      "outputs": [
        {
          "output_type": "execute_result",
          "data": {
            "text/plain": [
              "<matplotlib.axes._subplots.AxesSubplot at 0x7f305f144c88>"
            ]
          },
          "metadata": {
            "tags": []
          },
          "execution_count": 16
        },
        {
          "output_type": "display_data",
          "data": {
            "image/png": "[encoded data removed]",
            "text/plain": [
              "<Figure size 432x288 with 2 Axes>"
            ]
          },
          "metadata": {
            "tags": [],
            "needs_background": "light"
          }
        }
      ]
    },
    {
      "cell_type": "code",
      "metadata": {
        "id": "mgD9qqCZzUaM"
      },
      "source": [
        ""
      ],
      "execution_count": null,
      "outputs": []
    }
  ]
}